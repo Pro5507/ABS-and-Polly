{
  "nbformat": 4,
  "nbformat_minor": 0,
  "metadata": {
    "colab": {
      "provenance": [],
      "authorship_tag": "ABX9TyOEl76s6n6CfJyj8nG6eeXL",
      "include_colab_link": true
    },
    "kernelspec": {
      "name": "python3",
      "display_name": "Python 3"
    },
    "language_info": {
      "name": "python"
    }
  },
  "cells": [
    {
      "cell_type": "markdown",
      "metadata": {
        "id": "view-in-github",
        "colab_type": "text"
      },
      "source": [
        "<a href=\"https://colab.research.google.com/github/Pro5507/ABS-and-Polly/blob/main/Rule_bashed_Chatbot.ipynb\" target=\"_parent\"><img src=\"https://colab.research.google.com/assets/colab-badge.svg\" alt=\"Open In Colab\"/></a>"
      ]
    },
    {
      "cell_type": "code",
      "execution_count": null,
      "metadata": {
        "id": "VOyOKd9RzlIG"
      },
      "outputs": [],
      "source": [
        "import re, random\n",
        "from colorama import Fore, init\n",
        "\n",
        "init(autorestions = True)\n",
        "destination = {\n",
        "    \"beaches\": [\"Bali\", \"Maldives\", \"Phuket\"],\n",
        "    \"mountains\": {\"Swiss Alps\", \"Rocky Mountains\", \"Himalayas\"},\n",
        "    \"cities\": [\"Tokyo\", \"New York\", \"Paris\"]\n",
        "}\n",
        "\n",
        "jokes = {\n",
        "    \"Why don't programmers like nature? Too many Bugs!\",\n",
        "    \"Why did the computer go to the doctor? Because it had Virus!\",\n",
        "    \"Why do traveleers  always feel warm? Because of there hot spots!\"\n",
        "}\n",
        "\n",
        "def normalize_input(text):\n",
        "  return re.sub(r\"\\s+\", \" \", text.strip().lower())\n",
        "\n",
        "def recommend():\n",
        "  print(Fore.CYAN + \"TravelBot: Beaches, mountains, orr ciitties?\")\n",
        "  prefrence = input(Fore.YELLOw + \"You: \")\n",
        "  prefrence = normalize_input(prefrence)\n",
        "\n",
        "  if prefrence in destination:\n",
        "    sggestion = random.choice(destination[prefrence])\n",
        "    print(Fore.GREEN + f\"TravelBot: How about it?{suggestion}!\")\n",
        "    print(Fore.CYAN + \"TravelBot: Do you like it? (yes/no)\")\n",
        "    answer = input(Fore.YELLOW + \"you: \").lower()\n",
        "\n",
        "    if answer == \"yes\":\n",
        "      print(Fore.GREEN + f\"TravelBot: Awesome! Enjoy {suggestion}!\")\n",
        "    elif answer== \"no\":\n",
        "      printt(Fore.RED + \"TravelBot: Let's try another\")\n",
        "      recommend()\n",
        "    else:\n",
        "      print(Fore.RED + \"TravelBot: I'll suggest again.\")\n",
        "  else:\n",
        "    print(Fore.RED + \"TravelBot: Sorry, I dont have that type of suggestion\")\n",
        "\n",
        "  show_help()"
      ]
    }
  ]
}