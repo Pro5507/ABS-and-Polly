{
  "nbformat": 4,
  "nbformat_minor": 0,
  "metadata": {
    "colab": {
      "provenance": [],
      "authorship_tag": "ABX9TyPjaC/A86axgmwDKDfjmkB/",
      "include_colab_link": true
    },
    "kernelspec": {
      "name": "python3",
      "display_name": "Python 3"
    },
    "language_info": {
      "name": "python"
    }
  },
  "cells": [
    {
      "cell_type": "markdown",
      "metadata": {
        "id": "view-in-github",
        "colab_type": "text"
      },
      "source": [
        "<a href=\"https://colab.research.google.com/github/Pro5507/ABS-and-Polly/blob/main/Understanding_Mechine_Learning.ipynb\" target=\"_parent\"><img src=\"https://colab.research.google.com/assets/colab-badge.svg\" alt=\"Open In Colab\"/></a>"
      ]
    },
    {
      "cell_type": "code",
      "execution_count": null,
      "metadata": {
        "id": "4CCMcZHNKndF"
      },
      "outputs": [],
      "source": [
        "import nltk\n",
        "from nltk.chat.util import Chat, reflections\n",
        "\n",
        "reflections = {\n",
        "    \"i am\" : \"you are\",\n",
        "    \"i was\" : \"you were\",\n",
        "    \"i\" : \"you\",\n",
        "    \"i'm\" : \"you are\",\n",
        "    \"i'd\" : \"you would\",\n",
        "    \"i've\" : \"you have\",\n",
        "    \"i'll\" : \"you will\",\n",
        "    \"my\" : \"your\",\n",
        "    \"you are\" : \"I am\",\n",
        "    \"you were\" : \"I was\",\n",
        "    \"you've\" : \"I have\",\n",
        "    \"you'll\" : \"I will\",\n",
        "    \"your\" : \"my\",\n",
        "    \"yours\" : \"mine\",\n",
        "    \"you\" : \"me\",\n",
        "    \"me\" : \"you\"\n",
        "}\n",
        "\n",
        "pairs = [\n",
        "    [\n",
        "        r\"my name is (.*)\",\n",
        "        [\"Hello %1, how are you today?\"]\n",
        "    ],\n",
        "    [\n",
        "        r\"hi|hey|hello\",\n",
        "        [\"Hello\", \"Hey there\"]\n",
        "    ],\n",
        "    [\n",
        "        r\"what is your name?\",\n",
        "        [\"I am a bot created by Pallav. You can call me Jarvis!\"]\n",
        "    ],\n",
        "    [\n",
        "        r\"how are you?\",\n",
        "        [\"I'm doing good. How about you?\"]\n",
        "    ],\n",
        "    [\n",
        "        r\"sorry (.*)\",\n",
        "        [\"It's alright\", \"It's OK, never mind\"]\n",
        "    ],\n",
        "    [\n",
        "        r\"I am fine\",\n",
        "        [\"Great to hear that. How can I help you?\"]\n",
        "    ],\n",
        "    [\n",
        "        r\"i'm (.*) doing good\",\n",
        "        [\"Nice to hear that. How can I help you?\"]\n",
        "    ],\n",
        "    [\n",
        "        r\"(.*) age?\",\n",
        "        [\"I'm a computer progam dude. Seriously, you are asking me this?\"]\n",
        "    ],\n",
        "    [\n",
        "        r\"what (.*) want?\",\n",
        "        [\"Make me an offer I can't refuse\"]\n",
        "    ],\n",
        "    [\n",
        "        r\"(.*) created?\",\n",
        "        [\"Pallav created me using Python's NLTK library\", \"Top secret ;)\"]\n",
        "    ],\n",
        "    [\n",
        "        r\"(.*) (location|city)?\",\n",
        "        [\"Bangalore, Karanataka\"]\n",
        "    ],\n",
        "    [\n",
        "        r\"how is weather in (.*)\",\n",
        "        [\"The weather in %1 is awesome like always\", \"Too hot here in %1\", \"Too cold here in %1\", \"Never even heard about %1\"]\n",
        "    ]\n",
        "]"
      ]
    }
  ]
}