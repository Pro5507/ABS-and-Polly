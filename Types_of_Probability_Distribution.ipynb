{
  "nbformat": 4,
  "nbformat_minor": 0,
  "metadata": {
    "colab": {
      "provenance": [],
      "authorship_tag": "ABX9TyP+gkXuE3/rjOTTbcczDKk4",
      "include_colab_link": true
    },
    "kernelspec": {
      "name": "python3",
      "display_name": "Python 3"
    },
    "language_info": {
      "name": "python"
    }
  },
  "cells": [
    {
      "cell_type": "markdown",
      "metadata": {
        "id": "view-in-github",
        "colab_type": "text"
      },
      "source": [
        "<a href=\"https://colab.research.google.com/github/Pro5507/ABS-and-Polly/blob/main/Types_of_Probability_Distribution.ipynb\" target=\"_parent\"><img src=\"https://colab.research.google.com/assets/colab-badge.svg\" alt=\"Open In Colab\"/></a>"
      ]
    },
    {
      "cell_type": "code",
      "execution_count": 1,
      "metadata": {
        "colab": {
          "base_uri": "https://localhost:8080/"
        },
        "id": "LEmkdJWWHDYQ",
        "outputId": "942ed3c1-788d-43bd-be39-b49fd163e6cf"
      },
      "outputs": [
        {
          "output_type": "stream",
          "name": "stdout",
          "text": [
            "The probability of getting more than 6 heads in 10 coin flips is:  0.171875\n"
          ]
        }
      ],
      "source": [
        "import scipy.stats as stats\n",
        "\n",
        "prob = 1- stats.binom.cdf(6, 10, 0.5)\n",
        "\n",
        "print(\"The probability of getting more than 6 heads in 10 coin flips is: \", prob)"
      ]
    },
    {
      "cell_type": "code",
      "source": [
        "import scipy.stats as stats\n",
        "\n",
        "prob1 = stats.poisson.pmf(6, 10)\n",
        "print(\"Probability of raining for exactly 6 days: \",prob1)\n",
        "prob2 = stats.poisson.pmf(12, 10) + stats.poisson.pmf(13, 10) + ( stats.poisson.pmf(14, 10))\n",
        "print(\"Probabilitty of raining for 12-14 days: \",prob2)"
      ],
      "metadata": {
        "colab": {
          "base_uri": "https://localhost:8080/"
        },
        "id": "CXQWJc0tH5DM",
        "outputId": "4718af6f-2735-4516-ee48-e784fc001ab8"
      },
      "execution_count": 2,
      "outputs": [
        {
          "output_type": "stream",
          "name": "stdout",
          "text": [
            "Probability of raining for exactly 6 days:  0.06305545800345125\n",
            "Probabilitty of raining for 12-14 days:  0.21976538076223123\n"
          ]
        }
      ]
    },
    {
      "cell_type": "code",
      "source": [
        "import scipy.stats as stats\n",
        "\n",
        "prob1 = 1-stats.poisson.cdf(20, 15)\n",
        "print(prob1)\n",
        "\n",
        "prob2 = stats.poisson.cdf(21, 15) - stats.poisson.cdf(16, 15)\n",
        "print(prob2)"
      ],
      "metadata": {
        "colab": {
          "base_uri": "https://localhost:8080/"
        },
        "id": "AGZRgxAvJFTO",
        "outputId": "fccdb65a-4f0f-45dd-b981-7332ae898cc2"
      },
      "execution_count": 3,
      "outputs": [
        {
          "output_type": "stream",
          "name": "stdout",
          "text": [
            "0.08297091003146029\n",
            "0.2827703929341844\n"
          ]
        }
      ]
    }
  ]
}