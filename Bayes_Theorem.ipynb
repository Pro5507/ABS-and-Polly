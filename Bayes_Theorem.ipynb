{
  "nbformat": 4,
  "nbformat_minor": 0,
  "metadata": {
    "colab": {
      "provenance": [],
      "authorship_tag": "ABX9TyNyDPlrLxaoCaf/EmKpfqMK",
      "include_colab_link": true
    },
    "kernelspec": {
      "name": "python3",
      "display_name": "Python 3"
    },
    "language_info": {
      "name": "python"
    }
  },
  "cells": [
    {
      "cell_type": "markdown",
      "metadata": {
        "id": "view-in-github",
        "colab_type": "text"
      },
      "source": [
        "<a href=\"https://colab.research.google.com/github/Pro5507/ABS-and-Polly/blob/main/Bayes_Theorem.ipynb\" target=\"_parent\"><img src=\"https://colab.research.google.com/assets/colab-badge.svg\" alt=\"Open In Colab\"/></a>"
      ]
    },
    {
      "cell_type": "code",
      "execution_count": 3,
      "metadata": {
        "colab": {
          "base_uri": "https://localhost:8080/"
        },
        "id": "__B4vW2el8d9",
        "outputId": "7dea0ed1-e652-4bab-f067-3f13dc821b70"
      },
      "outputs": [
        {
          "output_type": "stream",
          "name": "stdout",
          "text": [
            "Person has step throat? \n",
            " 1.Yes \n",
            " 2.No\n",
            "Enter your choice(1/2): 1\n",
            "Person has tested positive \n",
            " 1.Yes /n 2.No\n",
            "Enter your choice(1/2): 1\n",
            "Probability of b givrn a: 0.85\n",
            "Probability of both the events occuring: 0.17\n"
          ]
        }
      ],
      "source": [
        "def find_prob(a, b):\n",
        "  if a==1:\n",
        "    prob_a = 0.2\n",
        "    if b==1:\n",
        "      prob_bga = 0.85\n",
        "    elif b==2:\n",
        "      prob_bga = 0.15\n",
        "    else:\n",
        "      print(\"Invalid Choice\")\n",
        "    prob_a_and_b = prob_a*prob_bga\n",
        "    print(\"Probability of b givrn a:\", prob_bga)\n",
        "    print(\"Probability of both the events occuring:\", prob_a_and_b)\n",
        "\n",
        "  elif a==2:\n",
        "    prob_a = 0.8\n",
        "    if b==1:\n",
        "      prob_bga = 0.2\n",
        "    elif b==2:\n",
        "      prob_bga = 0.98\n",
        "    else:\n",
        "      print(\"Invalid Choice\")\n",
        "    prob_a_and_b = prob_a*prob_bga\n",
        "    print(\"Probability of b given a:\", prob_bga)\n",
        "    print(\"Probability of both the events occuring:\", prob_a_and_b)\n",
        "\n",
        "  else:\n",
        "    print(\"Invalid Choice\")\n",
        "\n",
        "print(\"Person has step throat? \\n 1.Yes \\n 2.No\")\n",
        "a= int(input(\"Enter your choice(1/2): \"))\n",
        "\n",
        "print(\"Person has tested positive \\n 1.Yes /n 2.No\")\n",
        "b= int(input(\"Enter your choice(1/2): \"))\n",
        "\n",
        "find_prob(a, b)"
      ]
    },
    {
      "cell_type": "code",
      "source": [
        "import scipy.stats as stats\n",
        "\n",
        "x=3\n",
        "n=10\n",
        "prob_1 = stats.binom.pmf(x, n, 0.5)\n",
        "print(\"Probability of getting 3 heads\")\n",
        "print(prob_1)"
      ],
      "metadata": {
        "colab": {
          "base_uri": "https://localhost:8080/"
        },
        "id": "YZjnKZ1OpkbG",
        "outputId": "636d45fa-b153-476e-9b2f-3f38d1fe6685"
      },
      "execution_count": 4,
      "outputs": [
        {
          "output_type": "stream",
          "name": "stdout",
          "text": [
            "Probability of getting 3 heads\n",
            "0.1171875\n"
          ]
        }
      ]
    }
  ]
}