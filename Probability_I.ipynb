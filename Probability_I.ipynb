{
  "nbformat": 4,
  "nbformat_minor": 0,
  "metadata": {
    "colab": {
      "provenance": [],
      "authorship_tag": "ABX9TyPOoiWsoz880t0Xq941Ky56",
      "include_colab_link": true
    },
    "kernelspec": {
      "name": "python3",
      "display_name": "Python 3"
    },
    "language_info": {
      "name": "python"
    }
  },
  "cells": [
    {
      "cell_type": "markdown",
      "metadata": {
        "id": "view-in-github",
        "colab_type": "text"
      },
      "source": [
        "<a href=\"https://colab.research.google.com/github/Pro5507/ABS-and-Polly/blob/main/Probability_I.ipynb\" target=\"_parent\"><img src=\"https://colab.research.google.com/assets/colab-badge.svg\" alt=\"Open In Colab\"/></a>"
      ]
    },
    {
      "cell_type": "code",
      "execution_count": 4,
      "metadata": {
        "colab": {
          "base_uri": "https://localhost:8080/"
        },
        "id": "N7sGJz-uAooc",
        "outputId": "93559117-3ec8-4c39-875b-fc2dbbd9177f"
      },
      "outputs": [
        {
          "output_type": "stream",
          "name": "stdout",
          "text": [
            "Probability of picking red ball is: 0.3333333333333333\n",
            "Better luck next time\n"
          ]
        }
      ],
      "source": [
        "import random\n",
        "def pick_ball_exp():\n",
        "  balls = ['Red', 'Green', 'Blue']\n",
        "  result= random.choice(balls)\n",
        "  pro = balls.count('Red')/len(balls)\n",
        "  print(\"Probability of picking red ball is:\", pro)\n",
        "  if result== 'Red':\n",
        "    return 'Red ball was picked'\n",
        "  else:\n",
        "    return 'Better luck next time'\n",
        "res= pick_ball_exp()\n",
        "print(res)"
      ]
    }
  ]
}