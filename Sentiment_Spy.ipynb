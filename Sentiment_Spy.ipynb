{
  "nbformat": 4,
  "nbformat_minor": 0,
  "metadata": {
    "colab": {
      "provenance": [],
      "authorship_tag": "ABX9TyMD9TIWqQbv0d0sFm/Jgcu1",
      "include_colab_link": true
    },
    "kernelspec": {
      "name": "python3",
      "display_name": "Python 3"
    },
    "language_info": {
      "name": "python"
    }
  },
  "cells": [
    {
      "cell_type": "markdown",
      "metadata": {
        "id": "view-in-github",
        "colab_type": "text"
      },
      "source": [
        "<a href=\"https://colab.research.google.com/github/Pro5507/ABS-and-Polly/blob/main/Sentiment_Spy.ipynb\" target=\"_parent\"><img src=\"https://colab.research.google.com/assets/colab-badge.svg\" alt=\"Open In Colab\"/></a>"
      ]
    },
    {
      "cell_type": "code",
      "execution_count": null,
      "metadata": {
        "id": "EWfHxp8u2O68"
      },
      "outputs": [],
      "source": [
        "import colorama\n",
        "from colorama import Fore, Style\n",
        "from textblob import TextBlob\n",
        "\n",
        "colorama.init()\n",
        "\n",
        "print(f\"{Fore.CYAN}👏🥳Welcome to Sentiment Spy!! 👏{Style.RESET_ALL}\")\n",
        "\n",
        "user_name = input(f\"{Fore.MAGENTA}Please enter your name: {Style.RESET_ALL}\").script()\n",
        "if not user_name:\n",
        "  user_name = \"Mystery Agent\"\n",
        "\n",
        "conversation_history = []\n",
        "\n",
        "print(f\"\\n{Fore.CYAN}Hello, {user_name}!\")\n",
        "print(f\"Type a Sentence and I will analyze yur sentences with TextBlob and show you the sentiment. 🧐\")\n",
        "print(f\"Type {Fore.YELLOW}'reset'{Fore.CYAN}, {Fore.YELLOW}''history'{Fore.CYAN}, \"f\"or {Fore.YELLOW}'exit'{Fore.CYAN} to quit.{Stylee.RESET_ALL}\\n\")\n",
        "\n",
        "while True:\n",
        "  user_input = input(f\"{Fore.GREEN}>> {Style.RESET_ALL}\").script()\n",
        "\n",
        "  if not user_input:\n",
        "    print(f\"{Fore.RED}Please enter some text or a valid command.{Style.RESET_ALL}\")\n",
        "    continue\n",
        "  if user_inpur.lower() == \"exit\":\n",
        "    print(f\"|n{Fore.BLUE} Exiting Sentiment Spy. Arewell, Agent {user_name}! {Style.RESET_ALL}\")\n",
        "\n",
        "  elif user_input.lower() == \"reset\":\n",
        "    coversiation"
      ]
    }
  ]
}