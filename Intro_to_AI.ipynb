{
  "nbformat": 4,
  "nbformat_minor": 0,
  "metadata": {
    "colab": {
      "provenance": [],
      "authorship_tag": "ABX9TyM7jBDgjkWytjWut620/kRy",
      "include_colab_link": true
    },
    "kernelspec": {
      "name": "python3",
      "display_name": "Python 3"
    },
    "language_info": {
      "name": "python"
    }
  },
  "cells": [
    {
      "cell_type": "markdown",
      "metadata": {
        "id": "view-in-github",
        "colab_type": "text"
      },
      "source": [
        "<a href=\"https://colab.research.google.com/github/Pro5507/ABS-and-Polly/blob/main/Intro_to_AI.ipynb\" target=\"_parent\"><img src=\"https://colab.research.google.com/assets/colab-badge.svg\" alt=\"Open In Colab\"/></a>"
      ]
    },
    {
      "cell_type": "code",
      "execution_count": 1,
      "metadata": {
        "id": "Bx1ra4X5w53h"
      },
      "outputs": [],
      "source": [
        "x = 5\n",
        "y =  3.14\n",
        "name = \"Alice\"\n",
        "is_activity = True"
      ]
    },
    {
      "cell_type": "code",
      "source": [
        "a = 10 + 3\n",
        "b =  10  ** 2\n",
        "c =  10>5\n",
        "result = (a>b) or (c == True)\n",
        "print(result)"
      ],
      "metadata": {
        "colab": {
          "base_uri": "https://localhost:8080/"
        },
        "id": "CSB9yuVqxXLA",
        "outputId": "f3ee05cd-bc2a-4225-c7fb-614c86b27f6e"
      },
      "execution_count": 3,
      "outputs": [
        {
          "output_type": "stream",
          "name": "stdout",
          "text": [
            "True\n"
          ]
        }
      ]
    },
    {
      "cell_type": "code",
      "source": [
        "x= 10\n",
        "if x > 0:\n",
        "  print(\"Positive\")\n",
        "elif x == 0:\n",
        "  print(\"Zero\")\n",
        "else:\n",
        "  print(\"Negative\")"
      ],
      "metadata": {
        "colab": {
          "base_uri": "https://localhost:8080/"
        },
        "id": "A4_lud_RxyuP",
        "outputId": "f2acaf60-233e-46b1-ce06-45e7320b84d5"
      },
      "execution_count": 4,
      "outputs": [
        {
          "output_type": "stream",
          "name": "stdout",
          "text": [
            "Positive\n"
          ]
        }
      ]
    },
    {
      "cell_type": "code",
      "source": [
        "for i in range(5):\n",
        "  print(i)\n",
        "count = 0\n",
        "while count < 5:\n",
        "  print(count)\n",
        "  count += 1"
      ],
      "metadata": {
        "colab": {
          "base_uri": "https://localhost:8080/"
        },
        "id": "e4cDoWu4yUgF",
        "outputId": "97c76ae9-271e-4c29-ce82-1b41842d9424"
      },
      "execution_count": 5,
      "outputs": [
        {
          "output_type": "stream",
          "name": "stdout",
          "text": [
            "0\n",
            "1\n",
            "2\n",
            "3\n",
            "4\n",
            "0\n",
            "1\n",
            "2\n",
            "3\n",
            "4\n"
          ]
        }
      ]
    },
    {
      "cell_type": "code",
      "source": [
        "def greet(name):\n",
        "  return f\"Hello, {name}!\"\n",
        "print(greet(\"Alice\"))"
      ],
      "metadata": {
        "colab": {
          "base_uri": "https://localhost:8080/"
        },
        "id": "LKrHP6QkyvDA",
        "outputId": "c6fa632d-b24f-4c59-ab01-8ccd2ea8bcb8"
      },
      "execution_count": 6,
      "outputs": [
        {
          "output_type": "stream",
          "name": "stdout",
          "text": [
            "Hello, Alice!\n"
          ]
        }
      ]
    },
    {
      "cell_type": "code",
      "source": [
        "my_list = [1, 2, 3, 4, 5]\n",
        "print(my_list[0])\n",
        "my_list.append(6)\n",
        "my_list.pop(2)"
      ],
      "metadata": {
        "colab": {
          "base_uri": "https://localhost:8080/"
        },
        "id": "Mvm244w0zFct",
        "outputId": "9457556d-1f46-45eb-af98-a71efc5f3341"
      },
      "execution_count": 10,
      "outputs": [
        {
          "output_type": "stream",
          "name": "stdout",
          "text": [
            "1\n"
          ]
        },
        {
          "output_type": "execute_result",
          "data": {
            "text/plain": [
              "3"
            ]
          },
          "metadata": {},
          "execution_count": 10
        }
      ]
    },
    {
      "cell_type": "code",
      "source": [
        "my_dict = {\"name\": \"Alice\", \"age\": 25}\n",
        "print(my_dict[\"name\"])\n",
        "my_dict[\"age\"] = 26\n",
        "my_dict[\"cit\"]  = \"Paris\""
      ],
      "metadata": {
        "colab": {
          "base_uri": "https://localhost:8080/"
        },
        "id": "XRg6xFiJzgP1",
        "outputId": "7d2c1b0e-4924-483f-c26d-3ef0a3c556ac"
      },
      "execution_count": 11,
      "outputs": [
        {
          "output_type": "stream",
          "name": "stdout",
          "text": [
            "Alice\n"
          ]
        }
      ]
    },
    {
      "cell_type": "code",
      "source": [
        "print(\"Hello! I am AI bot. What's your name?\")\n",
        "name=  input()\n",
        "\n",
        "print(f\"Nice to meet you, {name}.\")\n",
        "print(\"How are you feeling today? (good/bad)\")\n",
        "mood = input().lower()\n",
        "\n",
        "if mood == 'good':\n",
        "  print(\"I am glad to hear that!\")\n",
        "elif mood == 'bad':\n",
        "  print(\"I am sorry to hear that! Hope things ge better soon.\")\n",
        "else:\n",
        "  print(\"I see. sometimes it's hard to put fellings into words.\")\n",
        "\n",
        "print(f\"It was nice chatting with you {name}, goodbye!\")"
      ],
      "metadata": {
        "colab": {
          "base_uri": "https://localhost:8080/"
        },
        "id": "qX2MBFh40lBV",
        "outputId": "51bbbad3-e9c2-4730-f6a5-237bcfc04c12"
      },
      "execution_count": 12,
      "outputs": [
        {
          "output_type": "stream",
          "name": "stdout",
          "text": [
            "Hello! I am AI bot. What's your name?\n",
            "pallav\n",
            "Nice to meet you, pallav.\n",
            "How are you feeling today? (good/bad)\n",
            "good\n",
            "I am glad to hear that!\n",
            "It was nice chatting with you pallav, goodbye!\n"
          ]
        }
      ]
    }
  ]
}