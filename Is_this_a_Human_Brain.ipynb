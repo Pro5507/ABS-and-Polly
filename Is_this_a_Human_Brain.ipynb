{
  "nbformat": 4,
  "nbformat_minor": 0,
  "metadata": {
    "colab": {
      "provenance": [],
      "authorship_tag": "ABX9TyO9/BUW2EgtbrR+Ss75P2b1",
      "include_colab_link": true
    },
    "kernelspec": {
      "name": "python3",
      "display_name": "Python 3"
    },
    "language_info": {
      "name": "python"
    }
  },
  "cells": [
    {
      "cell_type": "markdown",
      "metadata": {
        "id": "view-in-github",
        "colab_type": "text"
      },
      "source": [
        "<a href=\"https://colab.research.google.com/github/Pro5507/ABS-and-Polly/blob/main/Is_this_a_Human_Brain.ipynb\" target=\"_parent\"><img src=\"https://colab.research.google.com/assets/colab-badge.svg\" alt=\"Open In Colab\"/></a>"
      ]
    },
    {
      "cell_type": "code",
      "execution_count": 1,
      "metadata": {
        "id": "Q2dklP_RjwRL"
      },
      "outputs": [],
      "source": [
        "score =0"
      ]
    },
    {
      "cell_type": "code",
      "source": [
        "def q1():\n",
        "  q1 = \"What do we call the first layer of this nural net work?\"\n",
        "  a1 = input(\"Enter your answer : \")\n",
        "  a1 =a1.lower()\n",
        "  if a1 == 'input layer':\n",
        "    s= 1\n",
        "  else:\n",
        "    s=0\n",
        "  return s"
      ],
      "metadata": {
        "id": "El4NSPBYj_JK"
      },
      "execution_count": 2,
      "outputs": []
    },
    {
      "cell_type": "code",
      "source": [
        "def q2():\n",
        "  q2 = \"How many number of neuros can be there in the first layer of this neural network?\"\n",
        "  a2 = int(input(\"Enter your answer : \"))\n",
        "  if a2 == 8:\n",
        "    s=1\n",
        "  else:\n",
        "    s=0\n",
        "  return s"
      ],
      "metadata": {
        "id": "-hk-kGHlkqwR"
      },
      "execution_count": 3,
      "outputs": []
    },
    {
      "cell_type": "code",
      "source": [
        "def q3():\n",
        "  q3 = \"How many hidden layers ase present in this neural network?\"\n",
        "  a3 = int(input(\"Enter your answer: \"))\n",
        "  if a3 == 3:\n",
        "    s=1\n",
        "  else:\n",
        "    s=0\n",
        "  return s"
      ],
      "metadata": {
        "id": "dr1W5jpklhKh"
      },
      "execution_count": 4,
      "outputs": []
    },
    {
      "cell_type": "code",
      "source": [
        "def q4():\n",
        "  q4 =\"There can be any number of neurons in the hidden layer of this neural network. True or False\"\n",
        "  a4 = input(\"Enter your answer : \")\n",
        "  a4 = a4.lower()\n",
        "  if a4=='true':\n",
        "    s= 1\n",
        "  else:\n",
        "    s=0\n",
        "  return s"
      ],
      "metadata": {
        "id": "mHurL3PHmPj4"
      },
      "execution_count": 5,
      "outputs": []
    },
    {
      "cell_type": "code",
      "source": [
        "def q5():\n",
        "  q5 = \"What do we callthe last layer of this neural network?\"\n",
        "  a5 = input(\"Enter your answer : \")\n",
        "  a5 = a5.lower()\n",
        "  if a5 == 'output layer':\n",
        "    s=1\n",
        "  else:\n",
        "    s=0\n",
        "  return s"
      ],
      "metadata": {
        "id": "sVAsllXwnHrp"
      },
      "execution_count": 6,
      "outputs": []
    },
    {
      "cell_type": "code",
      "source": [
        "def q6():\n",
        "  q6 = \"How many number of neuros can be there in the last layer of this neural network?\"\n",
        "  a6 = int(input(\"Enter your answer : \"))\n",
        "  if a6==1:\n",
        "    s=1\n",
        "  else:\n",
        "    s=0\n",
        "  return s"
      ],
      "metadata": {
        "id": "rQBMR738nxW4"
      },
      "execution_count": 7,
      "outputs": []
    },
    {
      "cell_type": "code",
      "source": [
        "score += q1()\n",
        "score += q2()\n",
        "score += q3()\n",
        "score += q4()\n",
        "score += q5()\n",
        "score += q6()"
      ],
      "metadata": {
        "colab": {
          "base_uri": "https://localhost:8080/"
        },
        "id": "YVNcHgrkoaxY",
        "outputId": "c29f6466-7a23-45f2-8548-2a21849fdaab"
      },
      "execution_count": 8,
      "outputs": [
        {
          "name": "stdout",
          "output_type": "stream",
          "text": [
            "Enter your answer : input layer\n",
            "Enter your answer : 8\n",
            "Enter your answer: 3\n",
            "Enter your answer : true\n",
            "Enter your answer : output layer\n",
            "Enter your answer : 2\n"
          ]
        }
      ]
    },
    {
      "cell_type": "code",
      "source": [
        "print(\"your score is : \",score)"
      ],
      "metadata": {
        "colab": {
          "base_uri": "https://localhost:8080/"
        },
        "id": "CuD6pqFJo0Kx",
        "outputId": "2768bc5c-af2c-476e-f486-0b825215021b"
      },
      "execution_count": 9,
      "outputs": [
        {
          "output_type": "stream",
          "name": "stdout",
          "text": [
            "your score is :  5\n"
          ]
        }
      ]
    }
  ]
}