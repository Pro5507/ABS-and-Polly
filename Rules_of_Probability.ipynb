{
  "nbformat": 4,
  "nbformat_minor": 0,
  "metadata": {
    "colab": {
      "provenance": [],
      "authorship_tag": "ABX9TyM20WFwzufv+DtEdfwOzm/F",
      "include_colab_link": true
    },
    "kernelspec": {
      "name": "python3",
      "display_name": "Python 3"
    },
    "language_info": {
      "name": "python"
    }
  },
  "cells": [
    {
      "cell_type": "markdown",
      "metadata": {
        "id": "view-in-github",
        "colab_type": "text"
      },
      "source": [
        "<a href=\"https://colab.research.google.com/github/Pro5507/ABS-and-Polly/blob/main/Rules_of_Probability.ipynb\" target=\"_parent\"><img src=\"https://colab.research.google.com/assets/colab-badge.svg\" alt=\"Open In Colab\"/></a>"
      ]
    },
    {
      "cell_type": "code",
      "execution_count": 2,
      "metadata": {
        "colab": {
          "base_uri": "https://localhost:8080/"
        },
        "id": "lA4b7MnGjVi6",
        "outputId": "8705b190-6c96-42b6-a84d-319aba642712"
      },
      "outputs": [
        {
          "output_type": "stream",
          "name": "stdout",
          "text": [
            "{'b', 'x', 'z', 'y', 'e', 'v', 'c', 'a', 'd'}\n"
          ]
        }
      ],
      "source": [
        "set1= {'a', 'b', 'c', 'd', 'e'}\n",
        "set2= {'b', 'd', 'v', 'x', 'y', 'z'}\n",
        "\n",
        "union = set1.union(set2)\n",
        "print(union)"
      ]
    },
    {
      "cell_type": "code",
      "source": [
        "intersection = set1.intersection(set2)\n",
        "print(intersection)"
      ],
      "metadata": {
        "colab": {
          "base_uri": "https://localhost:8080/"
        },
        "id": "YvpjjKMekEhL",
        "outputId": "fe1bdb45-78df-496a-90f1-41c858a67c9c"
      },
      "execution_count": 3,
      "outputs": [
        {
          "output_type": "stream",
          "name": "stdout",
          "text": [
            "{'b', 'd'}\n"
          ]
        }
      ]
    },
    {
      "cell_type": "code",
      "source": [
        "def prob_a_or_b(a, b, all_possible_outcomes):\n",
        "  prob_a = len(a)/len(all_possible_outcomes)\n",
        "  prob_b = len(b)/len(all_possible_outcomes)\n",
        "  inter = a.intersection(b)\n",
        "  prob_inter = len(inter)/len(all_possible_outcomes)\n",
        "  return (prob_a + prob_b - prob_inter)\n",
        "\n",
        "evens = {2, 4, 6}\n",
        "greater_than_two = {3, 4, 5, 6}\n",
        "all_possible_rolls = {1, 2, 3, 4, 5, 6}\n",
        "\n",
        "print(\"Probability of getting  an even number pr a number greater than 2\")\n",
        "print(prob_a_or_b(evens, greater_than_two, all_possible_rolls))"
      ],
      "metadata": {
        "colab": {
          "base_uri": "https://localhost:8080/"
        },
        "id": "DCu7-ez1kPlz",
        "outputId": "355650bd-bcad-4996-ad62-9c91f728f097"
      },
      "execution_count": 4,
      "outputs": [
        {
          "output_type": "stream",
          "name": "stdout",
          "text": [
            "Probability of getting  an even number pr a number greater than 2\n",
            "0.8333333333333333\n"
          ]
        }
      ]
    }
  ]
}