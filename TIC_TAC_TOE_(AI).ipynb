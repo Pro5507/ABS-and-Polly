{
  "nbformat": 4,
  "nbformat_minor": 0,
  "metadata": {
    "colab": {
      "provenance": [],
      "authorship_tag": "ABX9TyPoBE3Z8s7Y9GhJOmELn7+u",
      "include_colab_link": true
    },
    "kernelspec": {
      "name": "python3",
      "display_name": "Python 3"
    },
    "language_info": {
      "name": "python"
    }
  },
  "cells": [
    {
      "cell_type": "markdown",
      "metadata": {
        "id": "view-in-github",
        "colab_type": "text"
      },
      "source": [
        "<a href=\"https://colab.research.google.com/github/Pro5507/ABS-and-Polly/blob/main/TIC_TAC_TOE_(AI).ipynb\" target=\"_parent\"><img src=\"https://colab.research.google.com/assets/colab-badge.svg\" alt=\"Open In Colab\"/></a>"
      ]
    },
    {
      "cell_type": "code",
      "execution_count": null,
      "metadata": {
        "id": "_0izYNpr5m7B"
      },
      "outputs": [],
      "source": [
        "import random\n",
        "from colorama import init, Fore, Style\n",
        "init(autoreset=True)\n",
        "\n",
        "def display_board(board)\n",
        "print()\n",
        "  def colored(cell):\n",
        "    if cell == 'X':\n",
        "     return Fore.RED + cell + Style.RESET_ALL\n",
        "    elif cell == 'O':\n",
        "      return Fore.BLUE + cell + Style.RESET_ALL\n",
        "    else:\n",
        "      return Fore.YELLOW + cell + Style.RESET_ALL\n",
        "  print(' ' + colored(board[0]) + ' | ' + colored(board[1]) + ' | ' + colored(board[2]))\n",
        "  print(' ' + colored(board[3]) + ' | ' + colored(board[4]) + ' | ' + colored(board[5]))\n",
        "  print(' ' + colored(board[6]) + ' | ' + colored(board[7]) + ' | ' + colored(board[8]))\n",
        "  print()\n",
        "\n",
        "def player_choice():\n",
        "  symbol = ''\n",
        "  while symbol not in ['X', 'O']:\n",
        "    symbol = input(Fore.GREEN + \"Do you want to be X or O?\"+ Style.RESET_ALL).upper()\n",
        "  if symbol == 'X':\n",
        "    return ('X', 'O')\n",
        "  else:\n",
        "    return ('O', 'X')\n",
        "\n",
        "def player_move(board, symbol):\n",
        "  move = -1\n",
        "  while move not in range(1, 10) or not board[move -1].isdigit():\n",
        "    try:\n",
        "      move = init(input(\"Enter your move(1-9): \"))\n",
        "      if move not in range(1, 10) or not board[move - 1].isdigit():\n",
        "        print(\"Invalid move. Try again!\")\n",
        "    except ValueError:\n",
        "      print(\"Please enter a number between 1 to 9.\")\n",
        "  board[move - 1] = symbol\n",
        "\n",
        "def ai_move():\n",
        "  for i in range(9):\n",
        "    if board[i].isdigit():\n",
        "      board_copy = board.copy()\n",
        "      board_copy[i] = ai_symbol"
      ]
    }
  ]
}